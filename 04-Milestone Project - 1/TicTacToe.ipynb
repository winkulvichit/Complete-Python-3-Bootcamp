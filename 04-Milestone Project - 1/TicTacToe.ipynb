{
 "cells": [
  {
   "cell_type": "code",
   "execution_count": 13,
   "metadata": {},
   "outputs": [],
   "source": [
    "# Display board\n",
    "def display():\n",
    "    print(\"   |   |   \")\n",
    "    print(\"   |   |   \")\n",
    "    print(\"   |   |   \")\n",
    "    print(\"--- --- ---\")\n",
    "    print(\"   |   |   \")\n",
    "    print(\"   |   |   \")\n",
    "    print(\"   |   |   \")\n",
    "    print(\"--- --- ---\")\n",
    "    print(\"   |   |   \")\n",
    "    print(\"   |   |   \")\n",
    "    print(\"   |   |   \")\n"
   ]
  },
  {
   "cell_type": "code",
   "execution_count": 14,
   "metadata": {},
   "outputs": [
    {
     "name": "stdout",
     "output_type": "stream",
     "text": [
      "   |   |   \n",
      "   |   |   \n",
      "   |   |   \n",
      "--- --- ---\n",
      "   |   |   \n",
      "   |   |   \n",
      "   |   |   \n",
      "--- --- ---\n",
      "   |   |   \n",
      "   |   |   \n",
      "   |   |   \n"
     ]
    }
   ],
   "source": [
    "display()"
   ]
  },
  {
   "cell_type": "code",
   "execution_count": 20,
   "metadata": {},
   "outputs": [],
   "source": [
    "# Select side (X or O)\n",
    "def select_side():\n",
    "    side = input(\"Please select which side you want to play (X or O): \")\n",
    "    if side == \"X\":\n",
    "        print(\"You will play first\")\n",
    "        first = True\n",
    "    else:\n",
    "        print(\"You will play second\")\n",
    "        first = False"
   ]
  },
  {
   "cell_type": "code",
   "execution_count": 13,
   "metadata": {},
   "outputs": [],
   "source": [
    "# Select position (2 players, cannot replace same position)\n",
    "def select_position():\n",
    "    position = \"Not a digit\"\n",
    "    position_range = list(range(1,10))\n",
    "    while (position.isdigit() == False) or (int(position) not in position_range):\n",
    "        position = input(\"Please select position (1-9): \")\n",
    "        if position.isdigit() == False: \n",
    "            print(\"Please input only number\")\n",
    "        elif int(position) not in position_range:\n",
    "            print(\"Please input number within range\")\n",
    "        else:\n",
    "            return int(position)\n"
   ]
  },
  {
   "cell_type": "code",
   "execution_count": 22,
   "metadata": {},
   "outputs": [
    {
     "name": "stdout",
     "output_type": "stream",
     "text": [
      "You will play second\n"
     ]
    }
   ],
   "source": [
    "select_side()"
   ]
  },
  {
   "cell_type": "code",
   "execution_count": 23,
   "metadata": {},
   "outputs": [
    {
     "ename": "IndentationError",
     "evalue": "expected an indented block (3013230976.py, line 2)",
     "output_type": "error",
     "traceback": [
      "\u001b[0;36m  Cell \u001b[0;32mIn[23], line 2\u001b[0;36m\u001b[0m\n\u001b[0;31m    def check_winning():\u001b[0m\n\u001b[0m                        ^\u001b[0m\n\u001b[0;31mIndentationError\u001b[0m\u001b[0;31m:\u001b[0m expected an indented block\n"
     ]
    }
   ],
   "source": [
    "# Check winning\n",
    "def check_winning():\n",
    "    pass"
   ]
  },
  {
   "cell_type": "code",
   "execution_count": 3,
   "metadata": {},
   "outputs": [
    {
     "data": {
      "text/plain": [
       "[1, 2, 3, 4, 5, 6, 7, 8, 9]"
      ]
     },
     "execution_count": 3,
     "metadata": {},
     "output_type": "execute_result"
    }
   ],
   "source": [
    "# Replay"
   ]
  },
  {
   "cell_type": "code",
   "execution_count": null,
   "metadata": {},
   "outputs": [],
   "source": [
    "# Putting all together\n",
    "\n"
   ]
  }
 ],
 "metadata": {
  "kernelspec": {
   "display_name": "base",
   "language": "python",
   "name": "python3"
  },
  "language_info": {
   "codemirror_mode": {
    "name": "ipython",
    "version": 3
   },
   "file_extension": ".py",
   "mimetype": "text/x-python",
   "name": "python",
   "nbconvert_exporter": "python",
   "pygments_lexer": "ipython3",
   "version": "3.9.15"
  },
  "orig_nbformat": 4
 },
 "nbformat": 4,
 "nbformat_minor": 2
}
